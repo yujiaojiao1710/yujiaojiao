{
  "nbformat": 4,
  "nbformat_minor": 0,
  "metadata": {
    "colab": {
      "name": "Untitled1.ipynb",
      "provenance": []
    },
    "kernelspec": {
      "name": "python3",
      "display_name": "Python 3"
    }
  },
  "cells": [
    {
      "cell_type": "markdown",
      "metadata": {
        "id": "VVfg2aPoUIYi",
        "colab_type": "text"
      },
      "source": [
        "#初めてのノートブック\n",
        "**コードを書いてみましょう**\n"
      ]
    },
    {
      "cell_type": "code",
      "metadata": {
        "id": "BOGiMyXnUz2N",
        "colab_type": "code",
        "outputId": "f43442d3-dcb4-4057-b959-ba7f33e3dff1",
        "colab": {
          "base_uri": "https://localhost:8080/",
          "height": 35
        }
      },
      "source": [
        "#計算する\n",
        "2*(3+4)"
      ],
      "execution_count": 0,
      "outputs": [
        {
          "output_type": "execute_result",
          "data": {
            "text/plain": [
              "14"
            ]
          },
          "metadata": {
            "tags": []
          },
          "execution_count": 3
        }
      ]
    },
    {
      "cell_type": "code",
      "metadata": {
        "id": "E_89wW-jUtBg",
        "colab_type": "code",
        "colab": {}
      },
      "source": [
        "print a value\n",
        "\n",
        "print（\"first value\"）\n"
      ],
      "execution_count": 0,
      "outputs": []
    },
    {
      "cell_type": "markdown",
      "metadata": {
        "id": "ZDQdJBxZW4-l",
        "colab_type": "text"
      },
      "source": [
        "**Calling a function `sort`**\n",
        "1. Make a list of\n",
        "\n",
        "```\n",
        "\n",
        "Numbers=[4,3,2,1]\n",
        "```\n",
        "\n",
        "2.Use the function sart0 to sort the Number\n",
        "3.Display by using print\n"
      ]
    },
    {
      "cell_type": "code",
      "metadata": {
        "id": "5cK8HO53YWdZ",
        "colab_type": "code",
        "outputId": "07010764-067c-4400-ff8e-3084e5b9f46a",
        "colab": {
          "base_uri": "https://localhost:8080/",
          "height": 35
        }
      },
      "source": [
        "Numbers = [4,3,2,1]\n",
        "Numbers.sort()\n",
        "print (Numbers)"
      ],
      "execution_count": 0,
      "outputs": [
        {
          "output_type": "stream",
          "text": [
            "[1, 2, 3, 4]\n"
          ],
          "name": "stdout"
        }
      ]
    }
  ]
}